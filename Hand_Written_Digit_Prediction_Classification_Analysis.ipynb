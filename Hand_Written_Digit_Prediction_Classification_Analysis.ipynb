{
  "nbformat": 4,
  "nbformat_minor": 0,
  "metadata": {
    "colab": {
      "provenance": [],
      "authorship_tag": "ABX9TyNZz9vx8iAK+rc0cZjOQ3Jn",
      "include_colab_link": true
    },
    "kernelspec": {
      "name": "python3",
      "display_name": "Python 3"
    },
    "language_info": {
      "name": "python"
    }
  },
  "cells": [
    {
      "cell_type": "markdown",
      "metadata": {
        "id": "view-in-github",
        "colab_type": "text"
      },
      "source": [
        "<a href=\"https://colab.research.google.com/github/harshitha-onteddu/ML-PROJECT1/blob/main/Hand_Written_Digit_Prediction_Classification_Analysis.ipynb\" target=\"_parent\"><img src=\"https://colab.research.google.com/assets/colab-badge.svg\" alt=\"Open In Colab\"/></a>"
      ]
    },
    {
      "cell_type": "markdown",
      "source": [
        "#Hand Written Digit Prediction-Classification Analysis\n"
      ],
      "metadata": {
        "id": "amK2jWoY2ROh"
      }
    },
    {
      "cell_type": "markdown",
      "source": [
        "**The digits dataset consists of 8x8 pixel images of digits. The images attribute of the dataset stores 8x8 arrays of grayscale values for each\n",
        "image. We will use these arrays to visualize the first 4 images. The target attribute of the dataset stores the digit each image represents**"
      ],
      "metadata": {
        "id": "BttWwAROw0Fc"
      }
    },
    {
      "cell_type": "code",
      "source": [
        "import pandas as pd"
      ],
      "metadata": {
        "id": "Fmm9a1KU24Az"
      },
      "execution_count": 32,
      "outputs": []
    },
    {
      "cell_type": "code",
      "source": [
        "import numpy as np"
      ],
      "metadata": {
        "id": "eQ7A-NCo25eh"
      },
      "execution_count": 33,
      "outputs": []
    },
    {
      "cell_type": "code",
      "source": [
        "import matplotlib.pyplot as plt"
      ],
      "metadata": {
        "id": "yLJe9mlj2_BD"
      },
      "execution_count": 34,
      "outputs": []
    },
    {
      "cell_type": "markdown",
      "source": [
        "#Import Data"
      ],
      "metadata": {
        "id": "70f-pfl-3D6Y"
      }
    },
    {
      "cell_type": "code",
      "source": [
        "from sklearn.datasets import load_digits"
      ],
      "metadata": {
        "id": "neN1X-mD3Fdv"
      },
      "execution_count": 35,
      "outputs": []
    },
    {
      "cell_type": "code",
      "source": [
        "from sklearn.datasets import load_digits"
      ],
      "metadata": {
        "id": "uHWH2VVy3J11"
      },
      "execution_count": 36,
      "outputs": []
    },
    {
      "cell_type": "code",
      "source": [
        "df=load_digits()"
      ],
      "metadata": {
        "id": "eLv3PZ6q3NKr"
      },
      "execution_count": 37,
      "outputs": []
    },
    {
      "cell_type": "code",
      "source": [
        "_, axes =plt.subplots(nrows=1, ncols=4, figsize=(10,3))\n",
        "for ax, image, label in zip(axes,df.images, df.target):\n",
        "  ax.set_axis_off()\n",
        "  ax.imshow(image,cmap=plt.cm.gray_r, interpolation=\"nearest\")\n",
        "  ax.set_title(\"Training: %i\" % label)"
      ],
      "metadata": {
        "colab": {
          "base_uri": "https://localhost:8080/",
          "height": 227
        },
        "id": "RZmPKEg53YLh",
        "outputId": "a9f19ca7-1b30-4a0a-e47a-41339ad4c8e4"
      },
      "execution_count": 38,
      "outputs": [
        {
          "output_type": "display_data",
          "data": {
            "text/plain": [
              "<Figure size 1000x300 with 4 Axes>"
            ],
            "image/png": "[encoded data removed]"
          },
          "metadata": {}
        }
      ]
    },
    {
      "cell_type": "markdown",
      "source": [
        "#Data Preprocessing\n",
        "List item\n",
        "\n",
        "List item"
      ],
      "metadata": {
        "id": "oHmyCHv93j8B"
      }
    },
    {
      "cell_type": "code",
      "source": [
        "df.images.shape"
      ],
      "metadata": {
        "colab": {
          "base_uri": "https://localhost:8080/"
        },
        "id": "Csd9scvC3lMj",
        "outputId": "896e8aae-58f8-441b-a748-d4ff6a71fac5"
      },
      "execution_count": 39,
      "outputs": [
        {
          "output_type": "execute_result",
          "data": {
            "text/plain": [
              "(1797, 8, 8)"
            ]
          },
          "metadata": {},
          "execution_count": 39
        }
      ]
    },
    {
      "cell_type": "code",
      "source": [
        "df.images[0]"
      ],
      "metadata": {
        "colab": {
          "base_uri": "https://localhost:8080/"
        },
        "id": "nEtKAS493vn0",
        "outputId": "32650687-32b5-449a-d78d-c0a347a852db"
      },
      "execution_count": 40,
      "outputs": [
        {
          "output_type": "execute_result",
          "data": {
            "text/plain": [
              "array([[ 0.,  0.,  5., 13.,  9.,  1.,  0.,  0.],\n",
              "       [ 0.,  0., 13., 15., 10., 15.,  5.,  0.],\n",
              "       [ 0.,  3., 15.,  2.,  0., 11.,  8.,  0.],\n",
              "       [ 0.,  4., 12.,  0.,  0.,  8.,  8.,  0.],\n",
              "       [ 0.,  5.,  8.,  0.,  0.,  9.,  8.,  0.],\n",
              "       [ 0.,  4., 11.,  0.,  1., 12.,  7.,  0.],\n",
              "       [ 0.,  2., 14.,  5., 10., 12.,  0.,  0.],\n",
              "       [ 0.,  0.,  6., 13., 10.,  0.,  0.,  0.]])"
            ]
          },
          "metadata": {},
          "execution_count": 40
        }
      ]
    },
    {
      "cell_type": "code",
      "source": [
        "df.images[0].shape"
      ],
      "metadata": {
        "colab": {
          "base_uri": "https://localhost:8080/"
        },
        "id": "ijbIA1JV3zCW",
        "outputId": "fe90a153-3635-4e36-d892-775315b8a6b8"
      },
      "execution_count": 41,
      "outputs": [
        {
          "output_type": "execute_result",
          "data": {
            "text/plain": [
              "(8, 8)"
            ]
          },
          "metadata": {},
          "execution_count": 41
        }
      ]
    },
    {
      "cell_type": "code",
      "source": [
        "n_samples=len(df.images)\n",
        "data= df.images.reshape((n_samples,-1))\n",
        "data[0]"
      ],
      "metadata": {
        "colab": {
          "base_uri": "https://localhost:8080/"
        },
        "id": "JJlp0f4j324H",
        "outputId": "8e61ab80-ebb2-4433-acf3-80e15f18043f"
      },
      "execution_count": 42,
      "outputs": [
        {
          "output_type": "execute_result",
          "data": {
            "text/plain": [
              "array([ 0.,  0.,  5., 13.,  9.,  1.,  0.,  0.,  0.,  0., 13., 15., 10.,\n",
              "       15.,  5.,  0.,  0.,  3., 15.,  2.,  0., 11.,  8.,  0.,  0.,  4.,\n",
              "       12.,  0.,  0.,  8.,  8.,  0.,  0.,  5.,  8.,  0.,  0.,  9.,  8.,\n",
              "        0.,  0.,  4., 11.,  0.,  1., 12.,  7.,  0.,  0.,  2., 14.,  5.,\n",
              "       10., 12.,  0.,  0.,  0.,  0.,  6., 13., 10.,  0.,  0.,  0.])"
            ]
          },
          "metadata": {},
          "execution_count": 42
        }
      ]
    },
    {
      "cell_type": "code",
      "source": [
        "data[0].shape"
      ],
      "metadata": {
        "colab": {
          "base_uri": "https://localhost:8080/"
        },
        "id": "hA4VuWuX37oy",
        "outputId": "fe840fed-e90d-4485-ddcf-7431cb256485"
      },
      "execution_count": 43,
      "outputs": [
        {
          "output_type": "execute_result",
          "data": {
            "text/plain": [
              "(64,)"
            ]
          },
          "metadata": {},
          "execution_count": 43
        }
      ]
    },
    {
      "cell_type": "code",
      "source": [
        "data.shape"
      ],
      "metadata": {
        "colab": {
          "base_uri": "https://localhost:8080/"
        },
        "id": "Ku8p2wtw3-WB",
        "outputId": "6bf382f4-9183-4440-ebf2-08bb9d38d81e"
      },
      "execution_count": 44,
      "outputs": [
        {
          "output_type": "execute_result",
          "data": {
            "text/plain": [
              "(1797, 64)"
            ]
          },
          "metadata": {},
          "execution_count": 44
        }
      ]
    },
    {
      "cell_type": "code",
      "source": [
        "data.min()"
      ],
      "metadata": {
        "colab": {
          "base_uri": "https://localhost:8080/"
        },
        "id": "rQ51TL5F4Bsd",
        "outputId": "a9e09b33-7e6f-483d-be14-c98040f536f6"
      },
      "execution_count": 45,
      "outputs": [
        {
          "output_type": "execute_result",
          "data": {
            "text/plain": [
              "0.0"
            ]
          },
          "metadata": {},
          "execution_count": 45
        }
      ]
    },
    {
      "cell_type": "code",
      "source": [
        "data.max()"
      ],
      "metadata": {
        "colab": {
          "base_uri": "https://localhost:8080/"
        },
        "id": "hGVBVSHW4E_I",
        "outputId": "9f34b2f5-964b-464f-8285-0c9d8bee57f2"
      },
      "execution_count": 46,
      "outputs": [
        {
          "output_type": "execute_result",
          "data": {
            "text/plain": [
              "16.0"
            ]
          },
          "metadata": {},
          "execution_count": 46
        }
      ]
    },
    {
      "cell_type": "code",
      "source": [
        "data = data/16\n",
        "data.min()"
      ],
      "metadata": {
        "colab": {
          "base_uri": "https://localhost:8080/"
        },
        "id": "i0NJIqWA4H_n",
        "outputId": "7db0ed13-a7cd-48f1-a9df-951bfd437b10"
      },
      "execution_count": 47,
      "outputs": [
        {
          "output_type": "execute_result",
          "data": {
            "text/plain": [
              "0.0"
            ]
          },
          "metadata": {},
          "execution_count": 47
        }
      ]
    },
    {
      "cell_type": "code",
      "source": [
        "data.max()"
      ],
      "metadata": {
        "colab": {
          "base_uri": "https://localhost:8080/"
        },
        "id": "LZ7KWBbx4LpW",
        "outputId": "ecd73a1d-ccb5-4e74-c64b-08703573461b"
      },
      "execution_count": 48,
      "outputs": [
        {
          "output_type": "execute_result",
          "data": {
            "text/plain": [
              "1.0"
            ]
          },
          "metadata": {},
          "execution_count": 48
        }
      ]
    },
    {
      "cell_type": "code",
      "source": [
        "data.shape"
      ],
      "metadata": {
        "colab": {
          "base_uri": "https://localhost:8080/"
        },
        "id": "R-YEgs1-4Xil",
        "outputId": "bcf90b4e-8dee-4a85-9a9b-b57e7b54d19e"
      },
      "execution_count": 49,
      "outputs": [
        {
          "output_type": "execute_result",
          "data": {
            "text/plain": [
              "(1797, 64)"
            ]
          },
          "metadata": {},
          "execution_count": 49
        }
      ]
    },
    {
      "cell_type": "markdown",
      "source": [
        "#Train_Test_Split_Data"
      ],
      "metadata": {
        "id": "TelRnX6Y4enY"
      }
    },
    {
      "cell_type": "code",
      "source": [
        "from sklearn.model_selection import train_test_split"
      ],
      "metadata": {
        "id": "IhtGeysA4gOk"
      },
      "execution_count": 50,
      "outputs": []
    },
    {
      "cell_type": "code",
      "source": [
        "X_train, X_test,y_train,y_test = train_test_split(data, df.target, test_size=0.3)"
      ],
      "metadata": {
        "id": "Rdu51Kt24kER"
      },
      "execution_count": 51,
      "outputs": []
    },
    {
      "cell_type": "code",
      "source": [
        "X_train.shape, X_test.shape,y_train.shape,y_test.shape"
      ],
      "metadata": {
        "colab": {
          "base_uri": "https://localhost:8080/"
        },
        "id": "7TRy5Vep4pr0",
        "outputId": "79389766-90bc-4610-a439-6fde30064f83"
      },
      "execution_count": 52,
      "outputs": [
        {
          "output_type": "execute_result",
          "data": {
            "text/plain": [
              "((1257, 64), (540, 64), (1257,), (540,))"
            ]
          },
          "metadata": {},
          "execution_count": 52
        }
      ]
    },
    {
      "cell_type": "markdown",
      "source": [
        "#Random Forest Model"
      ],
      "metadata": {
        "id": "5rKtks454yi4"
      }
    },
    {
      "cell_type": "code",
      "source": [
        "from sklearn.ensemble import RandomForestClassifier"
      ],
      "metadata": {
        "id": "KcsprUp843iw"
      },
      "execution_count": 53,
      "outputs": []
    },
    {
      "cell_type": "code",
      "source": [
        "rf = RandomForestClassifier()"
      ],
      "metadata": {
        "id": "XDIvNJKG4-Jr"
      },
      "execution_count": 54,
      "outputs": []
    },
    {
      "cell_type": "code",
      "source": [
        "rf.fit(X_train, y_train)"
      ],
      "metadata": {
        "colab": {
          "base_uri": "https://localhost:8080/",
          "height": 74
        },
        "id": "TsuJUvkb5Cbk",
        "outputId": "7a4a0692-3692-4c92-ef52-1d432392afc9"
      },
      "execution_count": 55,
      "outputs": [
        {
          "output_type": "execute_result",
          "data": {
            "text/plain": [
              "RandomForestClassifier()"
            ],
            "text/html": [
              "<style>#sk-container-id-2 {color: black;background-color: white;}#sk-container-id-2 pre{padding: 0;}#sk-container-id-2 div.sk-toggleable {background-color: white;}#sk-container-id-2 label.sk-toggleable__label {cursor: pointer;display: block;width: 100%;margin-bottom: 0;padding: 0.3em;box-sizing: border-box;text-align: center;}#sk-container-id-2 label.sk-toggleable__label-arrow:before {content: \"▸\";float: left;margin-right: 0.25em;color: #696969;}#sk-container-id-2 label.sk-toggleable__label-arrow:hover:before {color: black;}#sk-container-id-2 div.sk-estimator:hover label.sk-toggleable__label-arrow:before {color: black;}#sk-container-id-2 div.sk-toggleable__content {max-height: 0;max-width: 0;overflow: hidden;text-align: left;background-color: #f0f8ff;}#sk-container-id-2 div.sk-toggleable__content pre {margin: 0.2em;color: black;border-radius: 0.25em;background-color: #f0f8ff;}#sk-container-id-2 input.sk-toggleable__control:checked~div.sk-toggleable__content {max-height: 200px;max-width: 100%;overflow: auto;}#sk-container-id-2 input.sk-toggleable__control:checked~label.sk-toggleable__label-arrow:before {content: \"▾\";}#sk-container-id-2 div.sk-estimator input.sk-toggleable__control:checked~label.sk-toggleable__label {background-color: #d4ebff;}#sk-container-id-2 div.sk-label input.sk-toggleable__control:checked~label.sk-toggleable__label {background-color: #d4ebff;}#sk-container-id-2 input.sk-hidden--visually {border: 0;clip: rect(1px 1px 1px 1px);clip: rect(1px, 1px, 1px, 1px);height: 1px;margin: -1px;overflow: hidden;padding: 0;position: absolute;width: 1px;}#sk-container-id-2 div.sk-estimator {font-family: monospace;background-color: #f0f8ff;border: 1px dotted black;border-radius: 0.25em;box-sizing: border-box;margin-bottom: 0.5em;}#sk-container-id-2 div.sk-estimator:hover {background-color: #d4ebff;}#sk-container-id-2 div.sk-parallel-item::after {content: \"\";width: 100%;border-bottom: 1px solid gray;flex-grow: 1;}#sk-container-id-2 div.sk-label:hover label.sk-toggleable__label {background-color: #d4ebff;}#sk-container-id-2 div.sk-serial::before {content: \"\";position: absolute;border-left: 1px solid gray;box-sizing: border-box;top: 0;bottom: 0;left: 50%;z-index: 0;}#sk-container-id-2 div.sk-serial {display: flex;flex-direction: column;align-items: center;background-color: white;padding-right: 0.2em;padding-left: 0.2em;position: relative;}#sk-container-id-2 div.sk-item {position: relative;z-index: 1;}#sk-container-id-2 div.sk-parallel {display: flex;align-items: stretch;justify-content: center;background-color: white;position: relative;}#sk-container-id-2 div.sk-item::before, #sk-container-id-2 div.sk-parallel-item::before {content: \"\";position: absolute;border-left: 1px solid gray;box-sizing: border-box;top: 0;bottom: 0;left: 50%;z-index: -1;}#sk-container-id-2 div.sk-parallel-item {display: flex;flex-direction: column;z-index: 1;position: relative;background-color: white;}#sk-container-id-2 div.sk-parallel-item:first-child::after {align-self: flex-end;width: 50%;}#sk-container-id-2 div.sk-parallel-item:last-child::after {align-self: flex-start;width: 50%;}#sk-container-id-2 div.sk-parallel-item:only-child::after {width: 0;}#sk-container-id-2 div.sk-dashed-wrapped {border: 1px dashed gray;margin: 0 0.4em 0.5em 0.4em;box-sizing: border-box;padding-bottom: 0.4em;background-color: white;}#sk-container-id-2 div.sk-label label {font-family: monospace;font-weight: bold;display: inline-block;line-height: 1.2em;}#sk-container-id-2 div.sk-label-container {text-align: center;}#sk-container-id-2 div.sk-container {/* jupyter's `normalize.less` sets `[hidden] { display: none; }` but bootstrap.min.css set `[hidden] { display: none !important; }` so we also need the `!important` here to be able to override the default hidden behavior on the sphinx rendered scikit-learn.org. See: https://github.com/scikit-learn/scikit-learn/issues/21755 */display: inline-block !important;position: relative;}#sk-container-id-2 div.sk-text-repr-fallback {display: none;}</style><div id=\"sk-container-id-2\" class=\"sk-top-container\"><div class=\"sk-text-repr-fallback\"><pre>RandomForestClassifier()</pre><b>In a Jupyter environment, please rerun this cell to show the HTML representation or trust the notebook. <br />On GitHub, the HTML representation is unable to render, please try loading this page with nbviewer.org.</b></div><div class=\"sk-container\" hidden><div class=\"sk-item\"><div class=\"sk-estimator sk-toggleable\"><input class=\"sk-toggleable__control sk-hidden--visually\" id=\"sk-estimator-id-2\" type=\"checkbox\" checked><label for=\"sk-estimator-id-2\" class=\"sk-toggleable__label sk-toggleable__label-arrow\">RandomForestClassifier</label><div class=\"sk-toggleable__content\"><pre>RandomForestClassifier()</pre></div></div></div></div></div>"
            ]
          },
          "metadata": {},
          "execution_count": 55
        }
      ]
    },
    {
      "cell_type": "markdown",
      "source": [
        "#Predict Test Data"
      ],
      "metadata": {
        "id": "7Bg4pcKH5Jsk"
      }
    },
    {
      "cell_type": "code",
      "source": [
        "y_pred = rf.predict(X_test)"
      ],
      "metadata": {
        "id": "cq2TPJ4p5Na6"
      },
      "execution_count": 56,
      "outputs": []
    },
    {
      "cell_type": "code",
      "source": [
        "y_pred"
      ],
      "metadata": {
        "colab": {
          "base_uri": "https://localhost:8080/"
        },
        "id": "Gw6YBtYX5RCd",
        "outputId": "2ad7d39a-0146-430f-cf56-b5f353d1578f"
      },
      "execution_count": 57,
      "outputs": [
        {
          "output_type": "execute_result",
          "data": {
            "text/plain": [
              "array([1, 6, 8, 6, 4, 3, 5, 0, 4, 0, 3, 6, 5, 1, 1, 8, 7, 9, 2, 8, 6, 9,\n",
              "       6, 8, 2, 4, 0, 9, 2, 7, 7, 7, 0, 5, 1, 5, 5, 6, 6, 2, 4, 5, 4, 2,\n",
              "       9, 9, 5, 8, 4, 2, 4, 7, 1, 9, 7, 4, 8, 3, 3, 8, 7, 5, 6, 7, 2, 0,\n",
              "       1, 5, 3, 9, 0, 8, 2, 6, 4, 0, 4, 4, 5, 3, 4, 3, 1, 3, 7, 5, 6, 1,\n",
              "       8, 0, 4, 4, 8, 2, 3, 6, 0, 7, 8, 5, 2, 2, 8, 5, 5, 0, 0, 4, 8, 9,\n",
              "       2, 2, 8, 9, 0, 8, 0, 8, 7, 8, 1, 2, 9, 2, 3, 1, 7, 3, 6, 3, 4, 7,\n",
              "       4, 6, 5, 2, 9, 4, 0, 1, 9, 6, 4, 7, 8, 8, 4, 7, 5, 3, 9, 3, 0, 1,\n",
              "       8, 7, 9, 6, 3, 2, 3, 6, 2, 1, 2, 5, 0, 7, 2, 1, 8, 5, 9, 5, 1, 3,\n",
              "       3, 5, 6, 0, 7, 4, 8, 5, 6, 3, 8, 0, 8, 1, 7, 5, 2, 4, 3, 1, 6, 3,\n",
              "       8, 4, 9, 0, 0, 1, 5, 5, 7, 0, 0, 8, 7, 1, 0, 6, 3, 0, 7, 7, 7, 7,\n",
              "       6, 6, 9, 0, 1, 3, 9, 1, 9, 1, 3, 8, 1, 7, 9, 1, 5, 5, 8, 9, 8, 9,\n",
              "       4, 9, 3, 3, 4, 3, 4, 8, 5, 0, 6, 9, 8, 3, 3, 4, 8, 0, 9, 6, 8, 0,\n",
              "       6, 4, 2, 3, 9, 2, 0, 3, 8, 8, 6, 0, 6, 2, 8, 8, 4, 1, 1, 8, 1, 6,\n",
              "       9, 9, 8, 8, 7, 6, 0, 8, 1, 1, 6, 6, 4, 3, 2, 1, 1, 0, 6, 0, 0, 4,\n",
              "       9, 8, 2, 4, 9, 6, 4, 9, 3, 0, 5, 5, 8, 3, 7, 7, 4, 1, 1, 1, 7, 8,\n",
              "       9, 0, 5, 6, 8, 2, 3, 1, 3, 0, 6, 1, 0, 3, 0, 4, 8, 0, 9, 3, 1, 5,\n",
              "       0, 3, 4, 9, 1, 4, 1, 3, 7, 2, 0, 9, 9, 4, 9, 5, 7, 5, 4, 9, 4, 1,\n",
              "       9, 1, 4, 8, 4, 4, 6, 2, 3, 3, 1, 4, 9, 4, 2, 8, 2, 6, 3, 1, 6, 3,\n",
              "       5, 3, 9, 1, 6, 7, 9, 9, 5, 7, 5, 3, 0, 9, 5, 1, 1, 2, 1, 4, 2, 3,\n",
              "       6, 3, 0, 0, 6, 2, 5, 8, 6, 5, 8, 7, 9, 6, 3, 6, 6, 9, 7, 4, 9, 0,\n",
              "       0, 6, 2, 2, 6, 5, 1, 0, 9, 5, 0, 6, 4, 6, 9, 4, 2, 3, 0, 6, 7, 7,\n",
              "       7, 5, 0, 3, 6, 0, 2, 1, 5, 0, 1, 5, 3, 9, 7, 2, 9, 6, 6, 4, 9, 4,\n",
              "       1, 6, 5, 3, 9, 4, 6, 5, 9, 9, 5, 3, 5, 7, 4, 1, 3, 3, 3, 4, 6, 9,\n",
              "       2, 6, 7, 2, 5, 7, 0, 5, 5, 6, 4, 7, 1, 7, 7, 9, 3, 6, 2, 3, 0, 3,\n",
              "       6, 6, 1, 6, 8, 6, 3, 9, 4, 0, 5, 5])"
            ]
          },
          "metadata": {},
          "execution_count": 57
        }
      ]
    },
    {
      "cell_type": "markdown",
      "source": [
        "#Model Accuracy"
      ],
      "metadata": {
        "id": "HFblCuQm5Vz6"
      }
    },
    {
      "cell_type": "code",
      "source": [
        "from sklearn.metrics import confusion_matrix , classification_report"
      ],
      "metadata": {
        "id": "odK0PrrG5aiL"
      },
      "execution_count": 58,
      "outputs": []
    },
    {
      "cell_type": "code",
      "source": [
        "confusion_matrix(y_test,y_pred)"
      ],
      "metadata": {
        "colab": {
          "base_uri": "https://localhost:8080/"
        },
        "id": "j0zIB3UN5d4p",
        "outputId": "681c78fb-d4f0-4ccc-8b71-9bd7c24ae18f"
      },
      "execution_count": 59,
      "outputs": [
        {
          "output_type": "execute_result",
          "data": {
            "text/plain": [
              "array([[56,  0,  0,  0,  0,  0,  0,  0,  0,  0],\n",
              "       [ 0, 54,  0,  0,  0,  0,  0,  0,  0,  0],\n",
              "       [ 0,  0, 42,  0,  0,  0,  0,  0,  0,  0],\n",
              "       [ 0,  0,  0, 60,  0,  1,  0,  0,  1,  0],\n",
              "       [ 0,  0,  0,  0, 55,  0,  0,  1,  0,  0],\n",
              "       [ 0,  0,  0,  0,  0, 50,  0,  0,  0,  1],\n",
              "       [ 0,  0,  0,  0,  0,  0, 63,  0,  1,  0],\n",
              "       [ 0,  0,  0,  0,  0,  0,  0, 44,  1,  0],\n",
              "       [ 0,  0,  0,  1,  1,  0,  0,  0, 48,  1],\n",
              "       [ 0,  0,  0,  0,  0,  2,  0,  1,  0, 56]])"
            ]
          },
          "metadata": {},
          "execution_count": 59
        }
      ]
    },
    {
      "cell_type": "code",
      "source": [
        "print(classification_report(y_test,y_pred))"
      ],
      "metadata": {
        "colab": {
          "base_uri": "https://localhost:8080/"
        },
        "id": "Rmne9PYg5jdu",
        "outputId": "f1366ceb-40bb-44a3-b9fc-0b0f82277f08"
      },
      "execution_count": 60,
      "outputs": [
        {
          "output_type": "stream",
          "name": "stdout",
          "text": [
            "              precision    recall  f1-score   support\n",
            "\n",
            "           0       1.00      1.00      1.00        56\n",
            "           1       1.00      1.00      1.00        54\n",
            "           2       1.00      1.00      1.00        42\n",
            "           3       0.98      0.97      0.98        62\n",
            "           4       0.98      0.98      0.98        56\n",
            "           5       0.94      0.98      0.96        51\n",
            "           6       1.00      0.98      0.99        64\n",
            "           7       0.96      0.98      0.97        45\n",
            "           8       0.94      0.94      0.94        51\n",
            "           9       0.97      0.95      0.96        59\n",
            "\n",
            "    accuracy                           0.98       540\n",
            "   macro avg       0.98      0.98      0.98       540\n",
            "weighted avg       0.98      0.98      0.98       540\n",
            "\n"
          ]
        }
      ]
    }
  ]
}